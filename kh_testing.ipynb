{
 "cells": [
  {
   "cell_type": "code",
   "execution_count": 1,
   "id": "feae091f-45da-4258-beef-0b0d6fd5f730",
   "metadata": {},
   "outputs": [],
   "source": [
    "from reidemeister_moves import *"
   ]
  },
  {
   "cell_type": "code",
   "execution_count": 6,
   "id": "599fbe8d-f62d-40d6-a75b-45e1a3743cf3",
   "metadata": {},
   "outputs": [],
   "source": [
    "# %pip install \"regina>=7.0\"\n",
    "import regina"
   ]
  },
  {
   "cell_type": "markdown",
   "id": "4576b777-f3af-4264-b1e6-a77a9d12bac3",
   "metadata": {},
   "source": [
    "# Khovanov Homology of Non-Orientable Surfaces\n",
    "\n",
    "TODO: \n",
    "- Write functions for applying reidemeister moves\n",
    "- Write function for band attachment"
   ]
  },
  {
   "cell_type": "code",
   "execution_count": 24,
   "id": "62ed6c1f-4951-441a-a57f-28ca352e57d4",
   "metadata": {},
   "outputs": [
    {
     "ename": "AttributeError",
     "evalue": "type object 'regina.engine.Link' has no attribute 'withR1'",
     "output_type": "error",
     "traceback": [
      "\u001b[0;31m---------------------------------------------------------------------------\u001b[0m",
      "\u001b[0;31mAttributeError\u001b[0m                            Traceback (most recent call last)",
      "Cell \u001b[0;32mIn[24], line 3\u001b[0m\n\u001b[1;32m      1\u001b[0m rl \u001b[38;5;241m=\u001b[39m regina\u001b[38;5;241m.\u001b[39mLink\u001b[38;5;241m.\u001b[39mfromPD(K\u001b[38;5;241m.\u001b[39mpd_code())\n\u001b[1;32m      2\u001b[0m strand \u001b[38;5;241m=\u001b[39m rl\u001b[38;5;241m.\u001b[39mcomponents()[Integer(\u001b[38;5;241m0\u001b[39m)]\n\u001b[0;32m----> 3\u001b[0m rl_prime \u001b[38;5;241m=\u001b[39m \u001b[43mregina\u001b[49m\u001b[38;5;241;43m.\u001b[39;49m\u001b[43mLink\u001b[49m\u001b[38;5;241;43m.\u001b[39;49m\u001b[43mwithR1\u001b[49m(strand,Integer(\u001b[38;5;241m0\u001b[39m),Integer(\u001b[38;5;241m1\u001b[39m))\n\u001b[1;32m      5\u001b[0m K_prime \u001b[38;5;241m=\u001b[39m Link(rl_prime\u001b[38;5;241m.\u001b[39mpd())\n",
      "\u001b[0;31mAttributeError\u001b[0m: type object 'regina.engine.Link' has no attribute 'withR1'"
     ]
    }
   ],
   "source": [
    "rl = regina.Link.fromPD(K.pd_code())\n",
    "strand = rl.components()[0]\n",
    "rl_prime = regina.Link.withR1(strand,0,1)\n",
    "\n",
    "K_prime = Link(rl_prime.pd())"
   ]
  },
  {
   "cell_type": "code",
   "execution_count": 12,
   "id": "58c78395-5685-49cc-9e45-7141772de196",
   "metadata": {},
   "outputs": [
    {
     "data": {
      "text/plain": [
       "<regina.Link: 6-crossing knot: +-++-+ ( ^3 _0 ^2 _1 ^4 _2 ^0 _3 ^5 _4 ^1 _5 )>"
      ]
     },
     "execution_count": 12,
     "metadata": {},
     "output_type": "execute_result"
    }
   ],
   "source": [
    "rl"
   ]
  },
  {
   "cell_type": "code",
   "execution_count": 9,
   "id": "7e1d8b37-f80d-4e3b-b6e7-40808075f839",
   "metadata": {},
   "outputs": [
    {
     "data": {
      "image/png": "[encoded data removed]",
      "text/plain": [
       "Graphics object consisting of 26 graphics primitives"
      ]
     },
     "execution_count": 9,
     "metadata": {},
     "output_type": "execute_result"
    }
   ],
   "source": [
    "K = KnotInfo.K6_1.link()\n",
    "K.plot()"
   ]
  },
  {
   "cell_type": "code",
   "execution_count": null,
   "id": "b03347dd-722d-4a16-aaf0-86c9b7b04058",
   "metadata": {},
   "outputs": [],
   "source": [
    "K_prime = R1(K,1)\n",
    "K_prime.plot()"
   ]
  },
  {
   "cell_type": "code",
   "execution_count": null,
   "id": "b8decc0a-14b1-491f-a16e-6e84fab203ed",
   "metadata": {},
   "outputs": [],
   "source": [
    "Link([[1, 7, 2, 6],\n",
    " [3, 10, 4, 11],\n",
    " [5, 3, 6, 2],\n",
    " [7, 1, 8, 12],\n",
    " [9, 4, 10, 5],\n",
    " [11, 9, 12, 8],\n",
    " [13, , 14, ]).plot()"
   ]
  },
  {
   "cell_type": "code",
   "execution_count": null,
   "id": "8e223d1e-6991-454b-ae6c-b8617b583db7",
   "metadata": {},
   "outputs": [],
   "source": [
    "K_prime = Link(K.pd_code() + [[13, 14, 14, 15], [15])"
   ]
  },
  {
   "cell_type": "code",
   "execution_count": null,
   "id": "21a5d5e4-eece-42a7-bf06-859ea758c5c0",
   "metadata": {},
   "outputs": [],
   "source": [
    "kh = K.khovanov_homology()\n",
    "kh"
   ]
  },
  {
   "cell_type": "code",
   "execution_count": null,
   "id": "dc9cc4c8-dc90-4297-ba0b-db75a0e2775b",
   "metadata": {},
   "outputs": [],
   "source": [
    "from sage.homology.homology_group import HomologyGroup\n",
    "HomologyGroup(1,ZZ,[2])"
   ]
  },
  {
   "cell_type": "code",
   "execution_count": null,
   "id": "a579187c-4f5e-40d3-8565-7ba6c7429c9a",
   "metadata": {},
   "outputs": [],
   "source": [
    "HomologyGroup(1,ZZ)"
   ]
  },
  {
   "cell_type": "code",
   "execution_count": null,
   "id": "e7239816-e62d-4815-91a0-b394bd86e158",
   "metadata": {},
   "outputs": [],
   "source": [
    "def kh_coeffs(hom):\n",
    "    hgrads = hom.keys()\n",
    "    qgrads = {x\n",
    "             for c in hom.keys()}\n",
    "    min_hgrad, max_hgrad = min(hom.keys()), max(hom.keys())\n",
    "    min_qgrad, max_qgrad = min([min(cs.keys()) for cs in hom.values()]), max([max(cs.keys()) for cs in hom.values()])\n",
    "\n",
    "    coeffs = [[hom[h][i] if i in hom[h].keys() else 0 for i in range(min_qgrad, max_qgrad+1)] for h in hom.keys()]\n",
    "    coeffs.insert(0, list(range(min_qgrad,max_qgrad+1)))\n",
    "    for h, (i, row) in zip(['h\\\\setminus q'] + list(hom.keys()), enumerate(coeffs)):\n",
    "        coeffs[i] = [h] + row\n",
    "    \n",
    "    kh_table = table(coeffs, header_row=True, header_column=True)\n",
    "    return latex(kh_table)"
   ]
  },
  {
   "cell_type": "code",
   "execution_count": null,
   "id": "6458dfb2-8ed8-455b-b490-7a76a17c821c",
   "metadata": {},
   "outputs": [],
   "source": [
    "kh_coeffs(kh)"
   ]
  },
  {
   "cell_type": "markdown",
   "id": "6c9ffc65-6769-4a8b-b251-f8fc7910e0ec",
   "metadata": {},
   "source": [
    "$$\n",
    "\\begin{tabular}{l|lllllll}\n",
    "h\\q & $-2$ & $-1$ & $0$ & $1$ & $2$ & $3$ & $4$ \\\\ \\hline\n",
    "$-5$ & $\\ZZ$ & $0$ & $0$ & $0$ & $0$ & $0$ & $0$ \\\\\n",
    "$-3$ & $0$ & $C_{2}$ & $0$ & $0$ & $0$ & $0$ & $0$ \\\\\n",
    "$-1$ & $0$ & $\\ZZ$ & $\\ZZ \\times \\ZZ$ & $0$ & $0$ & $0$ & $0$ \\\\\n",
    "$1$ & $0$ & $0$ & $\\ZZ$ & $\\ZZ \\times C_{2}$ & $0$ & $0$ & $0$ \\\\\n",
    "$3$ & $0$ & $0$ & $0$ & $\\ZZ$ & $C_{2}$ & $0$ & $0$ \\\\\n",
    "$5$ & $0$ & $0$ & $0$ & $0$ & $\\ZZ$ & $\\ZZ$ & $0$ \\\\\n",
    "$7$ & $0$ & $0$ & $0$ & $0$ & $0$ & $0$ & $C_{2}$ \\\\\n",
    "$9$ & $0$ & $0$ & $0$ & $0$ & $0$ & $0$ & $\\ZZ$ \\\\\n",
    "\\end{tabular}\n",
    "$$"
   ]
  },
  {
   "cell_type": "code",
   "execution_count": null,
   "id": "36963fe1-930e-4ccc-b121-21f905c9dcb8",
   "metadata": {},
   "outputs": [],
   "source": [
    "def normal_euler_num(D, D_prime):\n",
    "    return D_prime.writhe() - D.writhe()"
   ]
  },
  {
   "cell_type": "code",
   "execution_count": null,
   "id": "5e702b87-2400-4da9-86ec-49aba62f88f8",
   "metadata": {},
   "outputs": [],
   "source": [
    "K.writhe()"
   ]
  }
 ],
 "metadata": {
  "kernelspec": {
   "display_name": "SageMath 10.7",
   "language": "sage",
   "name": "sagemath"
  },
  "language_info": {
   "codemirror_mode": {
    "name": "ipython",
    "version": 3
   },
   "file_extension": ".py",
   "mimetype": "text/x-python",
   "name": "python",
   "nbconvert_exporter": "python",
   "pygments_lexer": "ipython3",
   "version": "3.12.3"
  }
 },
 "nbformat": 4,
 "nbformat_minor": 5
}
