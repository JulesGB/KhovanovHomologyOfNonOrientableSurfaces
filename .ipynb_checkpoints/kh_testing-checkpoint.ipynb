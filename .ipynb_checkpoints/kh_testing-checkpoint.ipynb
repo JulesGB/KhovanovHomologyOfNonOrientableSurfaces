{
 "cells": [
  {
   "cell_type": "markdown",
   "id": "4576b777-f3af-4264-b1e6-a77a9d12bac3",
   "metadata": {},
   "source": [
    "# Khovanov Homology of Non-Orientable Surfaces"
   ]
  },
  {
   "cell_type": "code",
   "execution_count": null,
   "id": "7e1d8b37-f80d-4e3b-b6e7-40808075f839",
   "metadata": {},
   "outputs": [],
   "source": [
    "K = KnotInfo.K6_1.link()\n",
    "K.plot()"
   ]
  },
  {
   "cell_type": "code",
   "execution_count": null,
   "id": "21a5d5e4-eece-42a7-bf06-859ea758c5c0",
   "metadata": {},
   "outputs": [],
   "source": [
    "kh = K.khovanov_homology()\n",
    "kh"
   ]
  },
  {
   "cell_type": "code",
   "execution_count": 5,
   "id": "36963fe1-930e-4ccc-b121-21f905c9dcb8",
   "metadata": {},
   "outputs": [],
   "source": [
    "def normal_euler_num(D, D_prime):\n",
    "    return D_prime.writhe() - D.writhe()"
   ]
  },
  {
   "cell_type": "code",
   "execution_count": 6,
   "id": "5e702b87-2400-4da9-86ec-49aba62f88f8",
   "metadata": {},
   "outputs": [
    {
     "data": {
      "text/plain": [
       "2"
      ]
     },
     "execution_count": 6,
     "metadata": {},
     "output_type": "execute_result"
    }
   ],
   "source": [
    "K.writhe()"
   ]
  }
 ],
 "metadata": {
  "kernelspec": {
   "display_name": "SageMath 10.7",
   "language": "sage",
   "name": "sagemath"
  },
  "language_info": {
   "codemirror_mode": {
    "name": "ipython",
    "version": 3
   },
   "file_extension": ".py",
   "mimetype": "text/x-python",
   "name": "python",
   "nbconvert_exporter": "python",
   "pygments_lexer": "ipython3",
   "version": "3.12.3"
  }
 },
 "nbformat": 4,
 "nbformat_minor": 5
}
